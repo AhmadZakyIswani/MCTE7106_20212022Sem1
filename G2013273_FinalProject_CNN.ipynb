{
  "nbformat": 4,
  "nbformat_minor": 0,
  "metadata": {
    "colab": {
      "name": "CNN.ipynb",
      "provenance": [],
      "collapsed_sections": []
    },
    "kernelspec": {
      "name": "python3",
      "display_name": "Python 3"
    },
    "language_info": {
      "name": "python"
    },
    "accelerator": "GPU"
  },
  "cells": [
    {
      "cell_type": "code",
      "execution_count": null,
      "metadata": {
        "id": "WCPNE3dykSRZ"
      },
      "outputs": [],
      "source": [
        "import torch, torchvision\n",
        "from torchvision import datasets, models, transforms\n",
        "import torch.nn as nn\n",
        "import torch.nn.functional as F\n",
        "import torch.optim as optim\n",
        "from torch.utils.data import DataLoader\n",
        "import time\n",
        "from torchsummary import summary\n",
        "\n",
        "import numpy as np\n",
        "import matplotlib.pyplot as plt\n",
        "import os\n",
        "\n",
        "from PIL import Image"
      ]
    },
    {
      "cell_type": "code",
      "source": [
        "# mount drive so that we can use the dataset from google drive\n",
        "\n",
        "from google.colab import drive\n",
        "drive.mount(\"/content/drive\")"
      ],
      "metadata": {
        "colab": {
          "base_uri": "https://localhost:8080/"
        },
        "id": "X1cSoQOWYg9j",
        "outputId": "4124d9d7-a41d-419e-d7fa-5136c729b2dc"
      },
      "execution_count": null,
      "outputs": [
        {
          "output_type": "stream",
          "name": "stdout",
          "text": [
            "Drive already mounted at /content/drive; to attempt to forcibly remount, call drive.mount(\"/content/drive\", force_remount=True).\n"
          ]
        }
      ]
    },
    {
      "cell_type": "code",
      "source": [
        "!ls \"/content/drive/My Drive/MCTE7106FinalProject/KaggleDataset/newdataset\""
      ],
      "metadata": {
        "colab": {
          "base_uri": "https://localhost:8080/"
        },
        "id": "sT-w3pKmZBHT",
        "outputId": "63c63f12-f5c4-4d77-d8ba-7de1e961de70"
      },
      "execution_count": null,
      "outputs": [
        {
          "output_type": "stream",
          "name": "stdout",
          "text": [
            "Test  Training\n"
          ]
        }
      ]
    },
    {
      "cell_type": "code",
      "source": [
        "# Applying Transforms to the Data\n",
        "image_transforms = { \n",
        "    'train': transforms.Compose([\n",
        "        transforms.Resize(size=(32,32)),\n",
        "        transforms.RandomRotation(degrees=15),\n",
        "        transforms.RandomHorizontalFlip(),\n",
        "        transforms.ToTensor(),\n",
        "    ]),\n",
        "    'valid': transforms.Compose([\n",
        "        transforms.Resize(size=(32,32)),\n",
        "        transforms.ToTensor(),\n",
        "    ]),\n",
        "    'test': transforms.Compose([\n",
        "        transforms.Resize(size=(32,32)),\n",
        "        transforms.ToTensor(),\n",
        "    ])\n",
        "}"
      ],
      "metadata": {
        "id": "F5gO3zk8ZVek"
      },
      "execution_count": null,
      "outputs": []
    },
    {
      "cell_type": "code",
      "source": [
        "# Load the Data\n",
        "\n",
        "# Set train and valid directory paths\n",
        "\n",
        "dataset = '/content/drive/My Drive/MCTE7106FinalProject/KaggleDataset/newdataset'\n",
        "\n",
        "train_directory = os.path.join(dataset, 'Training')\n",
        "valid_directory = os.path.join(dataset, 'Test')\n",
        "test_directory = os.path.join(dataset, 'Test')\n",
        "\n",
        "# Batch size\n",
        "batchSize = 32\n",
        "\n",
        "# Number of classes\n",
        "num_classes = len(os.listdir(valid_directory))\n",
        "print(num_classes)\n",
        "\n",
        "# Load Data from folders\n",
        "data = {\n",
        "    'train': datasets.ImageFolder(root=train_directory, transform=image_transforms['train']),\n",
        "    'valid': datasets.ImageFolder(root=valid_directory, transform=image_transforms['valid']),\n",
        "    'test': datasets.ImageFolder(root=test_directory, transform=image_transforms['test'])\n",
        "}\n",
        "\n",
        "# Get a mapping of the indices to the class names, in order to see the output classes of the test images.\n",
        "idx_to_class = {v: k for k, v in data['train'].class_to_idx.items()}\n",
        "print(idx_to_class)"
      ],
      "metadata": {
        "colab": {
          "base_uri": "https://localhost:8080/"
        },
        "id": "9izJd623ZYtH",
        "outputId": "2fc1dd98-0263-454d-b7c6-dd18e4d9b36c"
      },
      "execution_count": null,
      "outputs": [
        {
          "output_type": "stream",
          "name": "stdout",
          "text": [
            "5\n",
            "{0: 'Apple Braeburn', 1: 'Banana', 2: 'Eggplant', 3: 'Mango', 4: 'Pineapple'}\n"
          ]
        }
      ]
    },
    {
      "cell_type": "code",
      "source": [
        "data['train']"
      ],
      "metadata": {
        "colab": {
          "base_uri": "https://localhost:8080/"
        },
        "id": "4XmCB-lIZmw8",
        "outputId": "58fb2580-32cd-49d9-e258-12ad81b3c507"
      },
      "execution_count": null,
      "outputs": [
        {
          "output_type": "execute_result",
          "data": {
            "text/plain": [
              "Dataset ImageFolder\n",
              "    Number of datapoints: 818\n",
              "    Root location: /content/drive/My Drive/MCTE7106FinalProject/KaggleDataset/newdataset/Training\n",
              "    StandardTransform\n",
              "Transform: Compose(\n",
              "               Resize(size=(32, 32), interpolation=bilinear, max_size=None, antialias=None)\n",
              "               RandomRotation(degrees=[-15.0, 15.0], interpolation=nearest, expand=False, fill=0)\n",
              "               RandomHorizontalFlip(p=0.5)\n",
              "               ToTensor()\n",
              "           )"
            ]
          },
          "metadata": {},
          "execution_count": 27
        }
      ]
    },
    {
      "cell_type": "code",
      "source": [
        "# Size of Data, to be used for calculating Average Loss and Accuracy\n",
        "train_data_size = len(data['train'])\n",
        "valid_data_size = len(data['valid'])\n",
        "test_data_size = len(data['test'])\n",
        "\n",
        "# Create iterators for the Data loaded using DataLoader module\n",
        "train_data_loader = DataLoader(data['train'], batch_size=batchSize, shuffle=True)\n",
        "valid_data_loader = DataLoader(data['valid'], batch_size=batchSize, shuffle=True)\n",
        "test_data_loader = DataLoader(data['test'], batch_size=batchSize, shuffle=True)"
      ],
      "metadata": {
        "id": "fYduSDs7ZncV"
      },
      "execution_count": null,
      "outputs": []
    },
    {
      "cell_type": "code",
      "source": [
        "train_data_size, valid_data_size, test_data_size"
      ],
      "metadata": {
        "colab": {
          "base_uri": "https://localhost:8080/"
        },
        "id": "Hc65sI73ZrfE",
        "outputId": "57f5a604-ad7c-45dc-db93-b02c4dc852de"
      },
      "execution_count": null,
      "outputs": [
        {
          "output_type": "execute_result",
          "data": {
            "text/plain": [
              "(818, 2430, 2430)"
            ]
          },
          "metadata": {},
          "execution_count": 29
        }
      ]
    },
    {
      "cell_type": "code",
      "source": [
        "input_size = (3,32,32)"
      ],
      "metadata": {
        "id": "Buv-iY5QZvD6"
      },
      "execution_count": null,
      "outputs": []
    },
    {
      "cell_type": "code",
      "source": [
        "# define our convolutional neural networks\n",
        "class Net(nn.Module):\n",
        "    def __init__(self, input_size, num_classes):\n",
        "        super(Net, self).__init__()\n",
        "\n",
        "        self.conv1 = nn.Conv2d(3, 32, 3)\n",
        "        self.conv2 = nn.Conv2d(32, 64, 3)\n",
        "        self.conv3 = nn.Conv2d(64, 128, 3)\n",
        "\n",
        "        self.pool = nn.MaxPool2d(2,2) # kernel size 2x2, stride = 2\n",
        "\n",
        "        n_size = self._get_conv_output(input_size)\n",
        "\n",
        "        self.fc1 = nn.Linear(n_size, 512)\n",
        "        self.fc2 = nn.Linear(512, num_classes)\n",
        "\n",
        "        self.dropout = nn.Dropout(0.5)\n",
        "\n",
        "    def _get_conv_output(self, shape):\n",
        "        batch_size = 1\n",
        "        input = torch.autograd.Variable(torch.rand(batch_size, *shape))\n",
        "        output_feat = self._forward_features(input)\n",
        "        n_size = output_feat.data.view(batch_size, -1).size(1)\n",
        "        return n_size\n",
        "\n",
        "    def _forward_features(self, x):\n",
        "        x = self.pool(F.relu(self.conv1(x)))\n",
        "        x = self.pool(F.relu(self.conv2(x)))\n",
        "        x = self.pool(F.relu(self.conv3(x)))\n",
        "        return x\n",
        "      \n",
        "    def forward(self, x):\n",
        "        x = self._forward_features(x)\n",
        "        x = x.view(x.size(0), -1) # flattening\n",
        "        x = F.relu(self.fc1(x))\n",
        "        x = self.dropout(x)\n",
        "        x = self.fc2(x)\n",
        "        return x"
      ],
      "metadata": {
        "id": "mXf9JgaJZvs-"
      },
      "execution_count": null,
      "outputs": []
    },
    {
      "cell_type": "code",
      "source": [
        "model = Net(input_size, num_classes)\n",
        "model = model.to('cuda:0')"
      ],
      "metadata": {
        "id": "g5eMojP7Z4ko"
      },
      "execution_count": null,
      "outputs": []
    },
    {
      "cell_type": "code",
      "source": [
        "model"
      ],
      "metadata": {
        "colab": {
          "base_uri": "https://localhost:8080/"
        },
        "id": "bD5g7X8KZ5O_",
        "outputId": "559d678f-4d1d-4a10-ed7e-dceb0763ffec"
      },
      "execution_count": null,
      "outputs": [
        {
          "output_type": "execute_result",
          "data": {
            "text/plain": [
              "Net(\n",
              "  (conv1): Conv2d(3, 32, kernel_size=(3, 3), stride=(1, 1))\n",
              "  (conv2): Conv2d(32, 64, kernel_size=(3, 3), stride=(1, 1))\n",
              "  (conv3): Conv2d(64, 128, kernel_size=(3, 3), stride=(1, 1))\n",
              "  (pool): MaxPool2d(kernel_size=2, stride=2, padding=0, dilation=1, ceil_mode=False)\n",
              "  (fc1): Linear(in_features=512, out_features=512, bias=True)\n",
              "  (fc2): Linear(in_features=512, out_features=5, bias=True)\n",
              "  (dropout): Dropout(p=0.5, inplace=False)\n",
              ")"
            ]
          },
          "metadata": {},
          "execution_count": 33
        }
      ]
    },
    {
      "cell_type": "code",
      "source": [
        "# Define Optimizer and Loss Function\n",
        "learning_rate = 0.001\n",
        "loss_func = nn.CrossEntropyLoss()\n",
        "optimizer = optim.Adam(model.parameters(), lr = learning_rate)"
      ],
      "metadata": {
        "id": "oevgpKr_Z6iv"
      },
      "execution_count": null,
      "outputs": []
    },
    {
      "cell_type": "code",
      "source": [
        "def train_and_validate(model, loss_criterion, optimizer, epochs=25):\n",
        "    '''\n",
        "    Function to train and validate\n",
        "    Parameters\n",
        "        :param model: Model to train and validate\n",
        "        :param loss_criterion: Loss Criterion to minimize\n",
        "        :param optimizer: Optimizer for computing gradients\n",
        "        :param epochs: Number of epochs (default=25)\n",
        "  \n",
        "    Returns\n",
        "        model: Trained Model with best validation accuracy\n",
        "        history: (dict object): Having training loss, accuracy and validation loss, accuracy\n",
        "    '''\n",
        "    \n",
        "    start = time.time()\n",
        "    history = []\n",
        "    best_acc = 0.0\n",
        "\n",
        "    for epoch in range(epochs):\n",
        "        epoch_start = time.time()\n",
        "        print(\"Epoch: {}/{}\".format(epoch+1, epochs))\n",
        "        \n",
        "        # Set to training mode\n",
        "        model.train()\n",
        "        \n",
        "        # Loss and Accuracy within the epoch\n",
        "        train_loss = 0.0\n",
        "        train_acc = 0.0\n",
        "        \n",
        "        valid_loss = 0.0\n",
        "        valid_acc = 0.0\n",
        "        \n",
        "        for i, (inputs, labels) in enumerate(train_data_loader):\n",
        "\n",
        "            inputs = inputs.to(device)\n",
        "            labels = labels.to(device)\n",
        "            \n",
        "            # Clean existing gradients\n",
        "            optimizer.zero_grad()\n",
        "            \n",
        "            # Forward pass - compute outputs on input data using the model\n",
        "            outputs = model(inputs)\n",
        "            \n",
        "            # Compute loss\n",
        "            loss = loss_criterion(outputs, labels)\n",
        "            \n",
        "            # Backpropagate the gradients\n",
        "            loss.backward()\n",
        "            \n",
        "            # Update the parameters\n",
        "            optimizer.step()\n",
        "            \n",
        "            # Compute the total loss for the batch and add it to train_loss\n",
        "            train_loss += loss.item() * inputs.size(0)\n",
        "            \n",
        "            # Compute the accuracy\n",
        "            ret, predictions = torch.max(outputs.data, 1)\n",
        "            correct_counts = predictions.eq(labels.data.view_as(predictions))\n",
        "            \n",
        "            # Convert correct_counts to float and then compute the mean\n",
        "            acc = torch.mean(correct_counts.type(torch.FloatTensor))\n",
        "            \n",
        "            # Compute total accuracy in the whole batch and add to train_acc\n",
        "            train_acc += acc.item() * inputs.size(0)\n",
        "\n",
        "            \n",
        "        # Validation - No gradient tracking needed\n",
        "        with torch.no_grad():\n",
        "\n",
        "            # Set to evaluation mode\n",
        "            model.eval()\n",
        "\n",
        "            # Validation loop\n",
        "            for j, (inputs, labels) in enumerate(valid_data_loader):\n",
        "                inputs = inputs.to(device)\n",
        "                labels = labels.to(device)\n",
        "\n",
        "                # Forward pass - compute outputs on input data using the model\n",
        "                outputs = model(inputs)\n",
        "\n",
        "                # Compute loss\n",
        "                loss = loss_criterion(outputs, labels)\n",
        "\n",
        "                # Compute the total loss for the batch and add it to valid_loss\n",
        "                valid_loss += loss.item() * inputs.size(0)\n",
        "\n",
        "                # Calculate validation accuracy\n",
        "                ret, predictions = torch.max(outputs.data, 1)\n",
        "                correct_counts = predictions.eq(labels.data.view_as(predictions))\n",
        "\n",
        "                # Convert correct_counts to float and then compute the mean\n",
        "                acc = torch.mean(correct_counts.type(torch.FloatTensor))\n",
        "\n",
        "                # Compute total accuracy in the whole batch and add to valid_acc\n",
        "                valid_acc += acc.item() * inputs.size(0)\n",
        "            \n",
        "        # Find average training loss and training accuracy\n",
        "        avg_train_loss = train_loss/train_data_size \n",
        "        avg_train_acc = train_acc/train_data_size\n",
        "\n",
        "        # Find average training loss and training accuracy\n",
        "        avg_valid_loss = valid_loss/valid_data_size \n",
        "        avg_valid_acc = valid_acc/valid_data_size\n",
        "\n",
        "        history.append([avg_train_loss, avg_valid_loss, avg_train_acc, avg_valid_acc])\n",
        "                \n",
        "        epoch_end = time.time()\n",
        "    \n",
        "        print(\"Epoch : {:03d}, Training: Loss: {:.4f}, Accuracy: {:.4f}%, \\n\\t\\tValidation : Loss : {:.4f}, Accuracy: {:.4f}%, Time: {:.4f}s\".format(epoch, avg_train_loss, avg_train_acc*100, avg_valid_loss, avg_valid_acc*100, epoch_end-epoch_start))\n",
        "        \n",
        "        # Save if the model has best accuracy till now\n",
        "        torch.save(model, dataset+'_model_'+str(epoch)+'.pt')\n",
        "            \n",
        "    return model, history"
      ],
      "metadata": {
        "id": "oEIi3XIvZ89W"
      },
      "execution_count": null,
      "outputs": []
    },
    {
      "cell_type": "code",
      "source": [
        "device = torch.device(\"cuda:0\" if torch.cuda.is_available() else \"cpu\")\n",
        "\n",
        "# Train the model for 25 epochs\n",
        "num_epochs = 25\n",
        "trained_model, history = train_and_validate(model, loss_func, optimizer, num_epochs)\n",
        "\n",
        "torch.save(history, dataset+'_history.pt')"
      ],
      "metadata": {
        "colab": {
          "base_uri": "https://localhost:8080/"
        },
        "id": "sgWEbaZuaBx3",
        "outputId": "3ff28de0-fc1d-49c3-ce08-67e79e14fde2"
      },
      "execution_count": null,
      "outputs": [
        {
          "output_type": "stream",
          "name": "stdout",
          "text": [
            "Epoch: 1/25\n",
            "Epoch : 000, Training: Loss: 1.2459, Accuracy: 51.2225%, \n",
            "\t\tValidation : Loss : 0.6280, Accuracy: 73.9918%, Time: 5.2123s\n",
            "Epoch: 2/25\n",
            "Epoch : 001, Training: Loss: 0.2640, Accuracy: 90.0978%, \n",
            "\t\tValidation : Loss : 0.1452, Accuracy: 93.7449%, Time: 5.1092s\n",
            "Epoch: 3/25\n",
            "Epoch : 002, Training: Loss: 0.0776, Accuracy: 97.5550%, \n",
            "\t\tValidation : Loss : 0.0866, Accuracy: 96.7901%, Time: 5.0180s\n",
            "Epoch: 4/25\n",
            "Epoch : 003, Training: Loss: 0.0843, Accuracy: 97.0660%, \n",
            "\t\tValidation : Loss : 0.0434, Accuracy: 97.7366%, Time: 4.9702s\n",
            "Epoch: 5/25\n",
            "Epoch : 004, Training: Loss: 0.0278, Accuracy: 99.6333%, \n",
            "\t\tValidation : Loss : 0.0593, Accuracy: 97.4897%, Time: 4.9509s\n",
            "Epoch: 6/25\n",
            "Epoch : 005, Training: Loss: 0.0091, Accuracy: 99.8778%, \n",
            "\t\tValidation : Loss : 0.0938, Accuracy: 96.5021%, Time: 5.0291s\n",
            "Epoch: 7/25\n",
            "Epoch : 006, Training: Loss: 0.0056, Accuracy: 99.8778%, \n",
            "\t\tValidation : Loss : 0.0409, Accuracy: 98.6008%, Time: 5.1719s\n",
            "Epoch: 8/25\n",
            "Epoch : 007, Training: Loss: 0.0038, Accuracy: 100.0000%, \n",
            "\t\tValidation : Loss : 0.0738, Accuracy: 97.4486%, Time: 5.0265s\n",
            "Epoch: 9/25\n",
            "Epoch : 008, Training: Loss: 0.0014, Accuracy: 100.0000%, \n",
            "\t\tValidation : Loss : 0.0479, Accuracy: 98.3128%, Time: 5.0756s\n",
            "Epoch: 10/25\n",
            "Epoch : 009, Training: Loss: 0.0009, Accuracy: 100.0000%, \n",
            "\t\tValidation : Loss : 0.0419, Accuracy: 98.7243%, Time: 5.0123s\n",
            "Epoch: 11/25\n",
            "Epoch : 010, Training: Loss: 0.0010, Accuracy: 100.0000%, \n",
            "\t\tValidation : Loss : 0.0162, Accuracy: 99.3004%, Time: 5.0883s\n",
            "Epoch: 12/25\n",
            "Epoch : 011, Training: Loss: 0.0009, Accuracy: 100.0000%, \n",
            "\t\tValidation : Loss : 0.0599, Accuracy: 98.3539%, Time: 5.0568s\n",
            "Epoch: 13/25\n",
            "Epoch : 012, Training: Loss: 0.0006, Accuracy: 100.0000%, \n",
            "\t\tValidation : Loss : 0.0245, Accuracy: 99.0947%, Time: 5.0811s\n",
            "Epoch: 14/25\n",
            "Epoch : 013, Training: Loss: 0.0012, Accuracy: 100.0000%, \n",
            "\t\tValidation : Loss : 0.0624, Accuracy: 97.9424%, Time: 5.0317s\n",
            "Epoch: 15/25\n",
            "Epoch : 014, Training: Loss: 0.0007, Accuracy: 100.0000%, \n",
            "\t\tValidation : Loss : 0.0116, Accuracy: 99.4239%, Time: 5.0649s\n",
            "Epoch: 16/25\n",
            "Epoch : 015, Training: Loss: 0.0006, Accuracy: 100.0000%, \n",
            "\t\tValidation : Loss : 0.0437, Accuracy: 98.9300%, Time: 4.9822s\n",
            "Epoch: 17/25\n",
            "Epoch : 016, Training: Loss: 0.0014, Accuracy: 100.0000%, \n",
            "\t\tValidation : Loss : 0.0563, Accuracy: 98.7243%, Time: 4.9761s\n",
            "Epoch: 18/25\n",
            "Epoch : 017, Training: Loss: 0.0058, Accuracy: 99.7555%, \n",
            "\t\tValidation : Loss : 0.0319, Accuracy: 99.1358%, Time: 5.0745s\n",
            "Epoch: 19/25\n",
            "Epoch : 018, Training: Loss: 0.0014, Accuracy: 100.0000%, \n",
            "\t\tValidation : Loss : 0.0117, Accuracy: 99.8765%, Time: 5.0408s\n",
            "Epoch: 20/25\n",
            "Epoch : 019, Training: Loss: 0.0005, Accuracy: 100.0000%, \n",
            "\t\tValidation : Loss : 0.0243, Accuracy: 99.1770%, Time: 5.0360s\n",
            "Epoch: 21/25\n",
            "Epoch : 020, Training: Loss: 0.0006, Accuracy: 100.0000%, \n",
            "\t\tValidation : Loss : 0.0206, Accuracy: 99.3416%, Time: 5.0786s\n",
            "Epoch: 22/25\n",
            "Epoch : 021, Training: Loss: 0.0006, Accuracy: 100.0000%, \n",
            "\t\tValidation : Loss : 0.0146, Accuracy: 99.3827%, Time: 4.9642s\n",
            "Epoch: 23/25\n",
            "Epoch : 022, Training: Loss: 0.0002, Accuracy: 100.0000%, \n",
            "\t\tValidation : Loss : 0.0141, Accuracy: 99.3827%, Time: 4.9493s\n",
            "Epoch: 24/25\n",
            "Epoch : 023, Training: Loss: 0.0004, Accuracy: 100.0000%, \n",
            "\t\tValidation : Loss : 0.0276, Accuracy: 99.1358%, Time: 5.0162s\n",
            "Epoch: 25/25\n",
            "Epoch : 024, Training: Loss: 0.0004, Accuracy: 100.0000%, \n",
            "\t\tValidation : Loss : 0.0324, Accuracy: 99.0535%, Time: 5.0620s\n"
          ]
        }
      ]
    },
    {
      "cell_type": "code",
      "source": [
        "history = np.array(history)\n",
        "plt.plot(history[:,0:2])\n",
        "plt.legend(['Tr Loss', 'Val Loss'])\n",
        "plt.xlabel('Epoch Number')\n",
        "plt.ylabel('Loss')\n",
        "plt.ylim(0,1)\n",
        "plt.savefig(dataset+'_loss_curve.png')\n",
        "plt.show()"
      ],
      "metadata": {
        "colab": {
          "base_uri": "https://localhost:8080/",
          "height": 283
        },
        "id": "Kf4ZaunI2dSx",
        "outputId": "6d44c695-088b-4015-d71e-ea1ab5eaa2f1"
      },
      "execution_count": null,
      "outputs": [
        {
          "output_type": "display_data",
          "data": {
            "image/png": "[encoded data removed]",
            "text/plain": [
              "<Figure size 432x288 with 1 Axes>"
            ]
          },
          "metadata": {
            "needs_background": "light"
          }
        }
      ]
    },
    {
      "cell_type": "code",
      "source": [
        "plt.plot(history[:,2:4])\n",
        "plt.legend(['Tr Accuracy', 'Val Accuracy'])\n",
        "plt.xlabel('Epoch Number')\n",
        "plt.ylabel('Accuracy')\n",
        "plt.ylim(0,1)\n",
        "plt.savefig(dataset+'_accuracy_curve.png')\n",
        "plt.show()"
      ],
      "metadata": {
        "colab": {
          "base_uri": "https://localhost:8080/",
          "height": 283
        },
        "id": "Td_ZWJoX2hrg",
        "outputId": "8321a829-74b9-4c6d-b780-329bd347fd96"
      },
      "execution_count": null,
      "outputs": [
        {
          "output_type": "display_data",
          "data": {
            "image/png": "[encoded data removed]",
            "text/plain": [
              "<Figure size 432x288 with 1 Axes>"
            ]
          },
          "metadata": {
            "needs_background": "light"
          }
        }
      ]
    },
    {
      "cell_type": "code",
      "source": [
        "def computeTestSetAccuracy(model, loss_criterion):\n",
        "    '''\n",
        "    Function to compute the accuracy on the test set\n",
        "    Parameters\n",
        "        :param model: Model to test\n",
        "        :param loss_criterion: Loss Criterion to minimize\n",
        "    '''\n",
        "\n",
        "    device = torch.device(\"cuda:0\" if torch.cuda.is_available() else \"cpu\")\n",
        "\n",
        "    test_acc = 0.0\n",
        "    test_loss = 0.0\n",
        "\n",
        "    # Validation - No gradient tracking needed\n",
        "    with torch.no_grad():\n",
        "\n",
        "        # Set to evaluation mode\n",
        "        model.eval()\n",
        "\n",
        "        # Validation loop\n",
        "        for j, (inputs, labels) in enumerate(test_data_loader):\n",
        "            inputs = inputs.to(device)\n",
        "            labels = labels.to(device)\n",
        "\n",
        "            # Forward pass - compute outputs on input data using the model\n",
        "            outputs = model(inputs)\n",
        "\n",
        "            # Compute loss\n",
        "            loss = loss_criterion(outputs, labels)\n",
        "\n",
        "            # Compute the total loss for the batch and add it to valid_loss\n",
        "            test_loss += loss.item() * inputs.size(0)\n",
        "\n",
        "            # Calculate validation accuracy\n",
        "            ret, predictions = torch.max(outputs.data, 1)\n",
        "            correct_counts = predictions.eq(labels.data.view_as(predictions))\n",
        "\n",
        "            # Convert correct_counts to float and then compute the mean\n",
        "            acc = torch.mean(correct_counts.type(torch.FloatTensor))\n",
        "\n",
        "            # Compute total accuracy in the whole batch and add to valid_acc\n",
        "            test_acc += acc.item() * inputs.size(0)\n",
        "\n",
        "            print(\"Test Batch number: {:03d}, Test: Loss: {:.4f}, Accuracy: {:.4f}\".format(j, loss.item(), acc.item()))\n",
        "\n",
        "    # Find average test loss and test accuracy\n",
        "    avg_test_loss = test_loss/test_data_size \n",
        "    avg_test_acc = test_acc/test_data_size\n",
        "\n",
        "    print(\"Test accuracy : \" + str(avg_test_acc))"
      ],
      "metadata": {
        "id": "9ukngnN-2jxI"
      },
      "execution_count": null,
      "outputs": []
    },
    {
      "cell_type": "code",
      "source": [
        "def predict(model, test_image_name):\n",
        "    '''\n",
        "    Function to predict the class of a single test image\n",
        "    Parameters\n",
        "        :param model: Model to test\n",
        "        :param test_image_name: Test image\n",
        "\n",
        "    '''\n",
        "    \n",
        "    transform = image_transforms['test']\n",
        "\n",
        "    test_image = Image.open(test_image_name)\n",
        "    plt.imshow(test_image)\n",
        "    \n",
        "    test_image_tensor = transform(test_image)\n",
        "\n",
        "    if torch.cuda.is_available():\n",
        "        test_image_tensor = test_image_tensor.view(1, 3, 32, 32).cuda()\n",
        "    else:\n",
        "        test_image_tensor = test_image_tensor.view(1, 3, 32, 32)\n",
        "        \n",
        "    \n",
        "    with torch.no_grad():\n",
        "        model.eval()\n",
        "        # Model outputs log probabilities\n",
        "        out = model(test_image_tensor)\n",
        "        ps = torch.exp(out)\n",
        "        topk, topclass = ps.topk(3, dim=1)\n",
        "        for i in range(3):\n",
        "            print(\"Prediction\", i+1, \":\", idx_to_class[topclass.cpu().numpy()[0][i]], \", Score: \", topk.cpu().numpy()[0][i])"
      ],
      "metadata": {
        "id": "R51FuVNl2nMl"
      },
      "execution_count": null,
      "outputs": []
    },
    {
      "cell_type": "code",
      "source": [
        "# Test a particular model on a test image\n",
        "\n",
        "dataset = '/content/drive/My Drive/MCTE7106FinalProject/KaggleDataset/newdataset/Test'\n",
        "model = torch.load('/content/drive/My Drive/MCTE7106FinalProject/KaggleDataset/newdataset_model_24.pt')\n",
        "predict(model, dataset+'/Banana/58_100.jpg')  "
      ],
      "metadata": {
        "colab": {
          "base_uri": "https://localhost:8080/",
          "height": 322
        },
        "id": "M_jXpoc4804v",
        "outputId": "27f769db-4a0f-40ca-f9fe-24d43f7b80e8"
      },
      "execution_count": null,
      "outputs": [
        {
          "output_type": "stream",
          "name": "stdout",
          "text": [
            "Prediction 1 : Banana , Score:  11027301000.0\n",
            "Prediction 2 : Mango , Score:  6313.975\n",
            "Prediction 3 : Apple Braeburn , Score:  0.008928645\n"
          ]
        },
        {
          "output_type": "display_data",
          "data": {
            "image/png": "[encoded data removed]",
            "text/plain": [
              "<Figure size 432x288 with 1 Axes>"
            ]
          },
          "metadata": {
            "needs_background": "light"
          }
        }
      ]
    },
    {
      "cell_type": "code",
      "source": [
        "# Load Data from folders\n",
        "computeTestSetAccuracy(model, loss_func)"
      ],
      "metadata": {
        "colab": {
          "base_uri": "https://localhost:8080/"
        },
        "id": "A1DBqbmW8984",
        "outputId": "8721991c-8514-4a4e-b943-311f4f20b96d"
      },
      "execution_count": null,
      "outputs": [
        {
          "output_type": "stream",
          "name": "stdout",
          "text": [
            "Test Batch number: 000, Test: Loss: 0.0052, Accuracy: 1.0000\n",
            "Test Batch number: 001, Test: Loss: 0.0027, Accuracy: 1.0000\n",
            "Test Batch number: 002, Test: Loss: 0.0000, Accuracy: 1.0000\n",
            "Test Batch number: 003, Test: Loss: 0.1568, Accuracy: 0.9688\n",
            "Test Batch number: 004, Test: Loss: 0.0063, Accuracy: 1.0000\n",
            "Test Batch number: 005, Test: Loss: 0.0044, Accuracy: 1.0000\n",
            "Test Batch number: 006, Test: Loss: 0.0012, Accuracy: 1.0000\n",
            "Test Batch number: 007, Test: Loss: 0.0001, Accuracy: 1.0000\n",
            "Test Batch number: 008, Test: Loss: 0.0014, Accuracy: 1.0000\n",
            "Test Batch number: 009, Test: Loss: 0.0066, Accuracy: 1.0000\n",
            "Test Batch number: 010, Test: Loss: 0.0007, Accuracy: 1.0000\n",
            "Test Batch number: 011, Test: Loss: 0.0010, Accuracy: 1.0000\n",
            "Test Batch number: 012, Test: Loss: 0.0054, Accuracy: 1.0000\n",
            "Test Batch number: 013, Test: Loss: 0.0034, Accuracy: 1.0000\n",
            "Test Batch number: 014, Test: Loss: 0.0068, Accuracy: 1.0000\n",
            "Test Batch number: 015, Test: Loss: 0.0837, Accuracy: 0.9688\n",
            "Test Batch number: 016, Test: Loss: 0.0030, Accuracy: 1.0000\n",
            "Test Batch number: 017, Test: Loss: 0.0007, Accuracy: 1.0000\n",
            "Test Batch number: 018, Test: Loss: 0.0076, Accuracy: 1.0000\n",
            "Test Batch number: 019, Test: Loss: 0.0015, Accuracy: 1.0000\n",
            "Test Batch number: 020, Test: Loss: 0.0126, Accuracy: 1.0000\n",
            "Test Batch number: 021, Test: Loss: 0.0691, Accuracy: 0.9688\n",
            "Test Batch number: 022, Test: Loss: 0.0003, Accuracy: 1.0000\n",
            "Test Batch number: 023, Test: Loss: 0.1906, Accuracy: 0.9375\n",
            "Test Batch number: 024, Test: Loss: 0.0000, Accuracy: 1.0000\n",
            "Test Batch number: 025, Test: Loss: 0.0003, Accuracy: 1.0000\n",
            "Test Batch number: 026, Test: Loss: 0.0057, Accuracy: 1.0000\n",
            "Test Batch number: 027, Test: Loss: 0.1099, Accuracy: 0.9688\n",
            "Test Batch number: 028, Test: Loss: 0.0006, Accuracy: 1.0000\n",
            "Test Batch number: 029, Test: Loss: 0.1465, Accuracy: 0.9688\n",
            "Test Batch number: 030, Test: Loss: 0.0041, Accuracy: 1.0000\n",
            "Test Batch number: 031, Test: Loss: 0.1275, Accuracy: 0.9688\n",
            "Test Batch number: 032, Test: Loss: 0.1104, Accuracy: 0.9688\n",
            "Test Batch number: 033, Test: Loss: 0.1325, Accuracy: 0.9688\n",
            "Test Batch number: 034, Test: Loss: 0.0003, Accuracy: 1.0000\n",
            "Test Batch number: 035, Test: Loss: 0.0141, Accuracy: 1.0000\n",
            "Test Batch number: 036, Test: Loss: 0.0150, Accuracy: 1.0000\n",
            "Test Batch number: 037, Test: Loss: 0.0035, Accuracy: 1.0000\n",
            "Test Batch number: 038, Test: Loss: 0.0031, Accuracy: 1.0000\n",
            "Test Batch number: 039, Test: Loss: 0.0008, Accuracy: 1.0000\n",
            "Test Batch number: 040, Test: Loss: 0.0040, Accuracy: 1.0000\n",
            "Test Batch number: 041, Test: Loss: 0.0133, Accuracy: 1.0000\n",
            "Test Batch number: 042, Test: Loss: 0.0064, Accuracy: 1.0000\n",
            "Test Batch number: 043, Test: Loss: 0.0097, Accuracy: 1.0000\n",
            "Test Batch number: 044, Test: Loss: 0.1114, Accuracy: 0.9688\n",
            "Test Batch number: 045, Test: Loss: 0.0073, Accuracy: 1.0000\n",
            "Test Batch number: 046, Test: Loss: 0.2633, Accuracy: 0.9062\n",
            "Test Batch number: 047, Test: Loss: 0.0039, Accuracy: 1.0000\n",
            "Test Batch number: 048, Test: Loss: 0.0103, Accuracy: 1.0000\n",
            "Test Batch number: 049, Test: Loss: 0.0035, Accuracy: 1.0000\n",
            "Test Batch number: 050, Test: Loss: 0.0155, Accuracy: 1.0000\n",
            "Test Batch number: 051, Test: Loss: 0.0651, Accuracy: 0.9688\n",
            "Test Batch number: 052, Test: Loss: 0.0009, Accuracy: 1.0000\n",
            "Test Batch number: 053, Test: Loss: 0.0048, Accuracy: 1.0000\n",
            "Test Batch number: 054, Test: Loss: 0.0016, Accuracy: 1.0000\n",
            "Test Batch number: 055, Test: Loss: 0.0008, Accuracy: 1.0000\n",
            "Test Batch number: 056, Test: Loss: 0.0031, Accuracy: 1.0000\n",
            "Test Batch number: 057, Test: Loss: 0.0068, Accuracy: 1.0000\n",
            "Test Batch number: 058, Test: Loss: 0.1830, Accuracy: 0.9375\n",
            "Test Batch number: 059, Test: Loss: 0.0906, Accuracy: 0.9688\n",
            "Test Batch number: 060, Test: Loss: 0.0033, Accuracy: 1.0000\n",
            "Test Batch number: 061, Test: Loss: 0.0029, Accuracy: 1.0000\n",
            "Test Batch number: 062, Test: Loss: 0.0000, Accuracy: 1.0000\n",
            "Test Batch number: 063, Test: Loss: 0.0050, Accuracy: 1.0000\n",
            "Test Batch number: 064, Test: Loss: 0.0001, Accuracy: 1.0000\n",
            "Test Batch number: 065, Test: Loss: 0.0068, Accuracy: 1.0000\n",
            "Test Batch number: 066, Test: Loss: 0.0003, Accuracy: 1.0000\n",
            "Test Batch number: 067, Test: Loss: 0.0010, Accuracy: 1.0000\n",
            "Test Batch number: 068, Test: Loss: 0.2060, Accuracy: 0.9375\n",
            "Test Batch number: 069, Test: Loss: 0.0044, Accuracy: 1.0000\n",
            "Test Batch number: 070, Test: Loss: 0.0300, Accuracy: 0.9688\n",
            "Test Batch number: 071, Test: Loss: 0.0000, Accuracy: 1.0000\n",
            "Test Batch number: 072, Test: Loss: 0.0000, Accuracy: 1.0000\n",
            "Test Batch number: 073, Test: Loss: 0.1164, Accuracy: 0.9688\n",
            "Test Batch number: 074, Test: Loss: 0.0288, Accuracy: 0.9688\n",
            "Test Batch number: 075, Test: Loss: 0.0053, Accuracy: 1.0000\n",
            "Test accuracy : 0.9905349794238684\n"
          ]
        }
      ]
    }
  ]
}